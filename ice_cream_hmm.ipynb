{
 "cells": [
  {
   "cell_type": "code",
   "execution_count": 1,
   "metadata": {
    "ExecuteTime": {
     "end_time": "2019-01-15T12:05:02.737027Z",
     "start_time": "2019-01-15T12:05:01.860289Z"
    },
    "collapsed": true
   },
   "outputs": [],
   "source": [
    "import numpy as np\n",
    "import pandas as pd\n",
    "import seaborn as sns\n",
    "#http://www.cs.jhu.edu/~jason/papers/#eisner-2002-tnlp"
   ]
  },
  {
   "cell_type": "markdown",
   "metadata": {
    "heading_collapsed": true
   },
   "source": [
    "## Initialization for text examples"
   ]
  },
  {
   "cell_type": "code",
   "execution_count": 2,
   "metadata": {
    "ExecuteTime": {
     "end_time": "2019-01-15T12:05:02.784051Z",
     "start_time": "2019-01-15T12:05:02.740294Z"
    },
    "collapsed": true,
    "hidden": true
   },
   "outputs": [],
   "source": [
    "Pi = np.array([\n",
    "                [0.8],\n",
    "                [0.2],#Starting emissions hot and cold\n",
    "                 ], float)\n",
    "#print(\"starting prob is hot\", Pi[0,0])   # N X 1 Matrix\n",
    "\n",
    "#Transition matrix\n",
    "A = np.array([\n",
    "                [0.6,\t0.4], # H|H , C|H,\n",
    "                [0.5,\t0.5], # H|C , C|C,\n",
    "                 ], float)\n",
    "\n",
    "\n",
    "#Emissions matrix\n",
    "B = np.array([\n",
    "                [0.2,\t0.4, .4], # 1|H, 2|H, 3|H    #One two or three icecreams given its hot\n",
    "                [0.5,\t0.4, .1], # 1|C, 2|C, 3|C\n",
    "                 ], float)\n",
    "\n",
    "B = np.array([# P(...|C) P(...|H)\n",
    "                [0.5,\t0.2], # P(1|...)    #One two or three icecreams given its hot\n",
    "                [0.4,\t0.4], # P(2|...)\n",
    "                [0.1,\t0.4], # P(3|...)\n",
    "                 ], float)\n",
    "\n",
    "\n",
    "Odic = {\"1\":0,\"2\":1,\"3\":2}    # O is observations, 1 icecream, 2 icecream, 3 icecream\n",
    "Qdic = {\"H\":0,\"C\":1}    # Q is state hot or cold\n",
    "Qdicrev = {0:\"H\",1:\"C\"}    # Q is state hot or cold\n",
    "\n",
    "\n",
    "#Likelihood of observation\n",
    "#P(O|Q)\n",
    "\n",
    "\n",
    "S = \"233232322313311121\"\n",
    "# S= \"313\"\n",
    "\n",
    "T = len(S)\n",
    "num_states = len(Qdic)\n",
    "num_obs = len(Odic)\n"
   ]
  },
  {
   "cell_type": "markdown",
   "metadata": {
    "heading_collapsed": true
   },
   "source": [
    "## Forward with text example"
   ]
  },
  {
   "cell_type": "code",
   "execution_count": 3,
   "metadata": {
    "ExecuteTime": {
     "end_time": "2019-01-15T12:05:02.859603Z",
     "start_time": "2019-01-15T12:05:02.786087Z"
    },
    "hidden": true,
    "scrolled": true
   },
   "outputs": [
    {
     "name": "stdout",
     "output_type": "stream",
     "text": [
      "n is ********** 1\n",
      "---------------\n",
      "Trellis state is 0\n",
      "state_observation_likelihood : 0.1\n",
      "transition prob : 0.6\n",
      "prev_forward_path_probability : 0.32\n",
      "transition prob : 0.5\n",
      "prev_forward_path_probability : 0.08\n",
      "---------------\n",
      "Trellis state is 1\n",
      "state_observation_likelihood : 0.4\n",
      "transition prob : 0.4\n",
      "prev_forward_path_probability : 0.32\n",
      "transition prob : 0.5\n",
      "prev_forward_path_probability : 0.08\n",
      "[[ 0.32    0.0232  0.      0.      0.      0.      0.      0.      0.      0.\n",
      "   0.      0.      0.      0.      0.      0.      0.      0.    ]\n",
      " [ 0.08    0.0672  0.      0.      0.      0.      0.      0.      0.      0.\n",
      "   0.      0.      0.      0.      0.      0.      0.      0.    ]]\n",
      "n is ********** 2\n",
      "---------------\n",
      "Trellis state is 0\n",
      "state_observation_likelihood : 0.1\n",
      "transition prob : 0.6\n",
      "prev_forward_path_probability : 0.0232\n",
      "transition prob : 0.5\n",
      "prev_forward_path_probability : 0.0672\n",
      "---------------\n",
      "Trellis state is 1\n",
      "state_observation_likelihood : 0.4\n",
      "transition prob : 0.4\n",
      "prev_forward_path_probability : 0.0232\n",
      "transition prob : 0.5\n",
      "prev_forward_path_probability : 0.0672\n",
      "[[ 0.32      0.0232    0.004752  0.        0.        0.        0.        0.\n",
      "   0.        0.        0.        0.        0.        0.        0.        0.\n",
      "   0.        0.      ]\n",
      " [ 0.08      0.0672    0.017152  0.        0.        0.        0.        0.\n",
      "   0.        0.        0.        0.        0.        0.        0.        0.\n",
      "   0.        0.      ]]\n",
      "n is ********** 3\n",
      "---------------\n",
      "Trellis state is 0\n",
      "state_observation_likelihood : 0.4\n",
      "transition prob : 0.6\n",
      "prev_forward_path_probability : 0.004752\n",
      "transition prob : 0.5\n",
      "prev_forward_path_probability : 0.017152\n",
      "---------------\n",
      "Trellis state is 1\n",
      "state_observation_likelihood : 0.4\n",
      "transition prob : 0.4\n",
      "prev_forward_path_probability : 0.004752\n",
      "transition prob : 0.5\n",
      "prev_forward_path_probability : 0.017152\n",
      "[[ 0.32        0.0232      0.004752    0.00457088  0.          0.          0.\n",
      "   0.          0.          0.          0.          0.          0.          0.\n",
      "   0.          0.          0.          0.        ]\n",
      " [ 0.08        0.0672      0.017152    0.00419072  0.          0.          0.\n",
      "   0.          0.          0.          0.          0.          0.          0.\n",
      "   0.          0.          0.          0.        ]]\n",
      "n is ********** 4\n",
      "---------------\n",
      "Trellis state is 0\n",
      "state_observation_likelihood : 0.1\n",
      "transition prob : 0.6\n",
      "prev_forward_path_probability : 0.00457088\n",
      "transition prob : 0.5\n",
      "prev_forward_path_probability : 0.00419072\n",
      "---------------\n",
      "Trellis state is 1\n",
      "state_observation_likelihood : 0.4\n",
      "transition prob : 0.4\n",
      "prev_forward_path_probability : 0.00457088\n",
      "transition prob : 0.5\n",
      "prev_forward_path_probability : 0.00419072\n",
      "[[ 0.32        0.0232      0.004752    0.00457088  0.00048379  0.          0.\n",
      "   0.          0.          0.          0.          0.          0.          0.\n",
      "   0.          0.          0.          0.        ]\n",
      " [ 0.08        0.0672      0.017152    0.00419072  0.00156948  0.          0.\n",
      "   0.          0.          0.          0.          0.          0.          0.\n",
      "   0.          0.          0.          0.        ]]\n",
      "n is ********** 5\n",
      "---------------\n",
      "Trellis state is 0\n",
      "state_observation_likelihood : 0.4\n",
      "transition prob : 0.6\n",
      "prev_forward_path_probability : 0.0004837888\n",
      "transition prob : 0.5\n",
      "prev_forward_path_probability : 0.0015694848\n",
      "---------------\n",
      "Trellis state is 1\n",
      "state_observation_likelihood : 0.4\n",
      "transition prob : 0.4\n",
      "prev_forward_path_probability : 0.0004837888\n",
      "transition prob : 0.5\n",
      "prev_forward_path_probability : 0.0015694848\n",
      "[[ 0.32        0.0232      0.004752    0.00457088  0.00048379  0.00043001\n",
      "   0.          0.          0.          0.          0.          0.          0.\n",
      "   0.          0.          0.          0.          0.        ]\n",
      " [ 0.08        0.0672      0.017152    0.00419072  0.00156948  0.0003913\n",
      "   0.          0.          0.          0.          0.          0.          0.\n",
      "   0.          0.          0.          0.          0.        ]]\n",
      "n is ********** 6\n",
      "---------------\n",
      "Trellis state is 0\n",
      "state_observation_likelihood : 0.1\n",
      "transition prob : 0.6\n",
      "prev_forward_path_probability : 0.000430006272\n",
      "transition prob : 0.5\n",
      "prev_forward_path_probability : 0.000391303168\n",
      "---------------\n",
      "Trellis state is 1\n",
      "state_observation_likelihood : 0.4\n",
      "transition prob : 0.4\n",
      "prev_forward_path_probability : 0.000430006272\n",
      "transition prob : 0.5\n",
      "prev_forward_path_probability : 0.000391303168\n",
      "[[  3.20000000e-01   2.32000000e-02   4.75200000e-03   4.57088000e-03\n",
      "    4.83788800e-04   4.30006272e-04   4.53655347e-05   0.00000000e+00\n",
      "    0.00000000e+00   0.00000000e+00   0.00000000e+00   0.00000000e+00\n",
      "    0.00000000e+00   0.00000000e+00   0.00000000e+00   0.00000000e+00\n",
      "    0.00000000e+00   0.00000000e+00]\n",
      " [  8.00000000e-02   6.72000000e-02   1.71520000e-02   4.19072000e-03\n",
      "    1.56948480e-03   3.91303168e-04   1.47061637e-04   0.00000000e+00\n",
      "    0.00000000e+00   0.00000000e+00   0.00000000e+00   0.00000000e+00\n",
      "    0.00000000e+00   0.00000000e+00   0.00000000e+00   0.00000000e+00\n",
      "    0.00000000e+00   0.00000000e+00]]\n",
      "n is ********** 7\n",
      "---------------\n",
      "Trellis state is 0\n",
      "state_observation_likelihood : 0.4\n",
      "transition prob : 0.6\n",
      "prev_forward_path_probability : 4.536553472e-05\n",
      "transition prob : 0.5\n",
      "prev_forward_path_probability : 0.00014706163712\n",
      "---------------\n",
      "Trellis state is 1\n",
      "state_observation_likelihood : 0.4\n",
      "transition prob : 0.4\n",
      "prev_forward_path_probability : 4.536553472e-05\n",
      "transition prob : 0.5\n",
      "prev_forward_path_probability : 0.00014706163712\n",
      "[[  3.20000000e-01   2.32000000e-02   4.75200000e-03   4.57088000e-03\n",
      "    4.83788800e-04   4.30006272e-04   4.53655347e-05   4.03000558e-05\n",
      "    0.00000000e+00   0.00000000e+00   0.00000000e+00   0.00000000e+00\n",
      "    0.00000000e+00   0.00000000e+00   0.00000000e+00   0.00000000e+00\n",
      "    0.00000000e+00   0.00000000e+00]\n",
      " [  8.00000000e-02   6.72000000e-02   1.71520000e-02   4.19072000e-03\n",
      "    1.56948480e-03   3.91303168e-04   1.47061637e-04   3.66708130e-05\n",
      "    0.00000000e+00   0.00000000e+00   0.00000000e+00   0.00000000e+00\n",
      "    0.00000000e+00   0.00000000e+00   0.00000000e+00   0.00000000e+00\n",
      "    0.00000000e+00   0.00000000e+00]]\n",
      "n is ********** 8\n",
      "---------------\n",
      "Trellis state is 0\n",
      "state_observation_likelihood : 0.4\n",
      "transition prob : 0.6\n",
      "prev_forward_path_probability : 4.03000557568e-05\n",
      "transition prob : 0.5\n",
      "prev_forward_path_probability : 3.66708129792e-05\n",
      "---------------\n",
      "Trellis state is 1\n",
      "state_observation_likelihood : 0.4\n",
      "transition prob : 0.4\n",
      "prev_forward_path_probability : 4.03000557568e-05\n",
      "transition prob : 0.5\n",
      "prev_forward_path_probability : 3.66708129792e-05\n",
      "[[  3.20000000e-01   2.32000000e-02   4.75200000e-03   4.57088000e-03\n",
      "    4.83788800e-04   4.30006272e-04   4.53655347e-05   4.03000558e-05\n",
      "    1.70061760e-05   0.00000000e+00   0.00000000e+00   0.00000000e+00\n",
      "    0.00000000e+00   0.00000000e+00   0.00000000e+00   0.00000000e+00\n",
      "    0.00000000e+00   0.00000000e+00]\n",
      " [  8.00000000e-02   6.72000000e-02   1.71520000e-02   4.19072000e-03\n",
      "    1.56948480e-03   3.91303168e-04   1.47061637e-04   3.66708130e-05\n",
      "    1.37821715e-05   0.00000000e+00   0.00000000e+00   0.00000000e+00\n",
      "    0.00000000e+00   0.00000000e+00   0.00000000e+00   0.00000000e+00\n",
      "    0.00000000e+00   0.00000000e+00]]\n",
      "n is ********** 9\n",
      "---------------\n",
      "Trellis state is 0\n",
      "state_observation_likelihood : 0.1\n",
      "transition prob : 0.6\n",
      "prev_forward_path_probability : 1.70061759775e-05\n",
      "transition prob : 0.5\n",
      "prev_forward_path_probability : 1.37821715169e-05\n",
      "---------------\n",
      "Trellis state is 1\n",
      "state_observation_likelihood : 0.4\n",
      "transition prob : 0.4\n",
      "prev_forward_path_probability : 1.70061759775e-05\n",
      "transition prob : 0.5\n",
      "prev_forward_path_probability : 1.37821715169e-05\n",
      "[[  3.20000000e-01   2.32000000e-02   4.75200000e-03   4.57088000e-03\n",
      "    4.83788800e-04   4.30006272e-04   4.53655347e-05   4.03000558e-05\n",
      "    1.70061760e-05   1.70947913e-06   0.00000000e+00   0.00000000e+00\n",
      "    0.00000000e+00   0.00000000e+00   0.00000000e+00   0.00000000e+00\n",
      "    0.00000000e+00   0.00000000e+00]\n",
      " [  8.00000000e-02   6.72000000e-02   1.71520000e-02   4.19072000e-03\n",
      "    1.56948480e-03   3.91303168e-04   1.47061637e-04   3.66708130e-05\n",
      "    1.37821715e-05   5.47742246e-06   0.00000000e+00   0.00000000e+00\n",
      "    0.00000000e+00   0.00000000e+00   0.00000000e+00   0.00000000e+00\n",
      "    0.00000000e+00   0.00000000e+00]]\n",
      "n is ********** 10\n",
      "---------------\n",
      "Trellis state is 0\n",
      "state_observation_likelihood : 0.5\n",
      "transition prob : 0.6\n",
      "prev_forward_path_probability : 1.70947913449e-06\n",
      "transition prob : 0.5\n",
      "prev_forward_path_probability : 5.47742245978e-06\n",
      "---------------\n",
      "Trellis state is 1\n",
      "state_observation_likelihood : 0.2\n",
      "transition prob : 0.4\n",
      "prev_forward_path_probability : 1.70947913449e-06\n",
      "transition prob : 0.5\n",
      "prev_forward_path_probability : 5.47742245978e-06\n",
      "[[  3.20000000e-01   2.32000000e-02   4.75200000e-03   4.57088000e-03\n",
      "    4.83788800e-04   4.30006272e-04   4.53655347e-05   4.03000558e-05\n",
      "    1.70061760e-05   1.70947913e-06   1.88219936e-06   0.00000000e+00\n",
      "    0.00000000e+00   0.00000000e+00   0.00000000e+00   0.00000000e+00\n",
      "    0.00000000e+00   0.00000000e+00]\n",
      " [  8.00000000e-02   6.72000000e-02   1.71520000e-02   4.19072000e-03\n",
      "    1.56948480e-03   3.91303168e-04   1.47061637e-04   3.66708130e-05\n",
      "    1.37821715e-05   5.47742246e-06   6.84500577e-07   0.00000000e+00\n",
      "    0.00000000e+00   0.00000000e+00   0.00000000e+00   0.00000000e+00\n",
      "    0.00000000e+00   0.00000000e+00]]\n",
      "n is ********** 11\n",
      "---------------\n",
      "Trellis state is 0\n",
      "state_observation_likelihood : 0.1\n",
      "transition prob : 0.6\n",
      "prev_forward_path_probability : 1.88219935529e-06\n",
      "transition prob : 0.5\n",
      "prev_forward_path_probability : 6.84500576738e-07\n",
      "---------------\n",
      "Trellis state is 1\n",
      "state_observation_likelihood : 0.4\n",
      "transition prob : 0.4\n",
      "prev_forward_path_probability : 1.88219935529e-06\n",
      "transition prob : 0.5\n",
      "prev_forward_path_probability : 6.84500576738e-07\n",
      "[[  3.20000000e-01   2.32000000e-02   4.75200000e-03   4.57088000e-03\n",
      "    4.83788800e-04   4.30006272e-04   4.53655347e-05   4.03000558e-05\n",
      "    1.70061760e-05   1.70947913e-06   1.88219936e-06   1.47156990e-07\n",
      "    0.00000000e+00   0.00000000e+00   0.00000000e+00   0.00000000e+00\n",
      "    0.00000000e+00   0.00000000e+00]\n",
      " [  8.00000000e-02   6.72000000e-02   1.71520000e-02   4.19072000e-03\n",
      "    1.56948480e-03   3.91303168e-04   1.47061637e-04   3.66708130e-05\n",
      "    1.37821715e-05   5.47742246e-06   6.84500577e-07   4.38052012e-07\n",
      "    0.00000000e+00   0.00000000e+00   0.00000000e+00   0.00000000e+00\n",
      "    0.00000000e+00   0.00000000e+00]]\n",
      "n is ********** 12\n",
      "---------------\n",
      "Trellis state is 0\n",
      "state_observation_likelihood : 0.1\n",
      "transition prob : 0.6\n",
      "prev_forward_path_probability : 1.47156990155e-07\n",
      "transition prob : 0.5\n",
      "prev_forward_path_probability : 4.38052012195e-07\n",
      "---------------\n",
      "Trellis state is 1\n",
      "state_observation_likelihood : 0.4\n",
      "transition prob : 0.4\n",
      "prev_forward_path_probability : 1.47156990155e-07\n",
      "transition prob : 0.5\n",
      "prev_forward_path_probability : 4.38052012195e-07\n",
      "[[  3.20000000e-01   2.32000000e-02   4.75200000e-03   4.57088000e-03\n",
      "    4.83788800e-04   4.30006272e-04   4.53655347e-05   4.03000558e-05\n",
      "    1.70061760e-05   1.70947913e-06   1.88219936e-06   1.47156990e-07\n",
      "    3.07320200e-08   0.00000000e+00   0.00000000e+00   0.00000000e+00\n",
      "    0.00000000e+00   0.00000000e+00]\n",
      " [  8.00000000e-02   6.72000000e-02   1.71520000e-02   4.19072000e-03\n",
      "    1.56948480e-03   3.91303168e-04   1.47061637e-04   3.66708130e-05\n",
      "    1.37821715e-05   5.47742246e-06   6.84500577e-07   4.38052012e-07\n",
      "    1.11155521e-07   0.00000000e+00   0.00000000e+00   0.00000000e+00\n",
      "    0.00000000e+00   0.00000000e+00]]\n",
      "n is ********** 13\n",
      "---------------\n",
      "Trellis state is 0\n",
      "state_observation_likelihood : 0.5\n",
      "transition prob : 0.6\n",
      "prev_forward_path_probability : 3.0732020019e-08\n",
      "transition prob : 0.5\n",
      "prev_forward_path_probability : 1.11155520864e-07\n",
      "---------------\n",
      "Trellis state is 1\n",
      "state_observation_likelihood : 0.2\n",
      "transition prob : 0.4\n",
      "prev_forward_path_probability : 3.0732020019e-08\n",
      "transition prob : 0.5\n",
      "prev_forward_path_probability : 1.11155520864e-07\n",
      "[[  3.20000000e-01   2.32000000e-02   4.75200000e-03   4.57088000e-03\n",
      "    4.83788800e-04   4.30006272e-04   4.53655347e-05   4.03000558e-05\n",
      "    1.70061760e-05   1.70947913e-06   1.88219936e-06   1.47156990e-07\n",
      "    3.07320200e-08   3.70084862e-08   0.00000000e+00   0.00000000e+00\n",
      "    0.00000000e+00   0.00000000e+00]\n",
      " [  8.00000000e-02   6.72000000e-02   1.71520000e-02   4.19072000e-03\n",
      "    1.56948480e-03   3.91303168e-04   1.47061637e-04   3.66708130e-05\n",
      "    1.37821715e-05   5.47742246e-06   6.84500577e-07   4.38052012e-07\n",
      "    1.11155521e-07   1.35741137e-08   0.00000000e+00   0.00000000e+00\n",
      "    0.00000000e+00   0.00000000e+00]]\n",
      "n is ********** 14\n",
      "---------------\n",
      "Trellis state is 0\n",
      "state_observation_likelihood : 0.5\n",
      "transition prob : 0.6\n",
      "prev_forward_path_probability : 3.70084862216e-08\n",
      "transition prob : 0.5\n",
      "prev_forward_path_probability : 1.35741136879e-08\n",
      "---------------\n",
      "Trellis state is 1\n",
      "state_observation_likelihood : 0.2\n",
      "transition prob : 0.4\n",
      "prev_forward_path_probability : 3.70084862216e-08\n",
      "transition prob : 0.5\n",
      "prev_forward_path_probability : 1.35741136879e-08\n",
      "[[  3.20000000e-01   2.32000000e-02   4.75200000e-03   4.57088000e-03\n",
      "    4.83788800e-04   4.30006272e-04   4.53655347e-05   4.03000558e-05\n",
      "    1.70061760e-05   1.70947913e-06   1.88219936e-06   1.47156990e-07\n",
      "    3.07320200e-08   3.70084862e-08   1.44960743e-08   0.00000000e+00\n",
      "    0.00000000e+00   0.00000000e+00]\n",
      " [  8.00000000e-02   6.72000000e-02   1.71520000e-02   4.19072000e-03\n",
      "    1.56948480e-03   3.91303168e-04   1.47061637e-04   3.66708130e-05\n",
      "    1.37821715e-05   5.47742246e-06   6.84500577e-07   4.38052012e-07\n",
      "    1.11155521e-07   1.35741137e-08   4.31809027e-09   0.00000000e+00\n",
      "    0.00000000e+00   0.00000000e+00]]\n",
      "n is ********** 15\n",
      "---------------\n",
      "Trellis state is 0\n",
      "state_observation_likelihood : 0.5\n",
      "transition prob : 0.6\n",
      "prev_forward_path_probability : 1.44960742885e-08\n",
      "transition prob : 0.5\n",
      "prev_forward_path_probability : 4.31809026652e-09\n",
      "---------------\n",
      "Trellis state is 1\n",
      "state_observation_likelihood : 0.2\n",
      "transition prob : 0.4\n",
      "prev_forward_path_probability : 1.44960742885e-08\n",
      "transition prob : 0.5\n",
      "prev_forward_path_probability : 4.31809026652e-09\n",
      "[[  3.20000000e-01   2.32000000e-02   4.75200000e-03   4.57088000e-03\n",
      "    4.83788800e-04   4.30006272e-04   4.53655347e-05   4.03000558e-05\n",
      "    1.70061760e-05   1.70947913e-06   1.88219936e-06   1.47156990e-07\n",
      "    3.07320200e-08   3.70084862e-08   1.44960743e-08   5.42834485e-09\n",
      "    0.00000000e+00   0.00000000e+00]\n",
      " [  8.00000000e-02   6.72000000e-02   1.71520000e-02   4.19072000e-03\n",
      "    1.56948480e-03   3.91303168e-04   1.47061637e-04   3.66708130e-05\n",
      "    1.37821715e-05   5.47742246e-06   6.84500577e-07   4.38052012e-07\n",
      "    1.11155521e-07   1.35741137e-08   4.31809027e-09   1.59149497e-09\n",
      "    0.00000000e+00   0.00000000e+00]]\n",
      "n is ********** 16\n",
      "---------------\n",
      "Trellis state is 0\n",
      "state_observation_likelihood : 0.4\n",
      "transition prob : 0.6\n",
      "prev_forward_path_probability : 5.42834485316e-09\n",
      "transition prob : 0.5\n",
      "prev_forward_path_probability : 1.59149496973e-09\n",
      "---------------\n",
      "Trellis state is 1\n",
      "state_observation_likelihood : 0.4\n",
      "transition prob : 0.4\n",
      "prev_forward_path_probability : 5.42834485316e-09\n",
      "transition prob : 0.5\n",
      "prev_forward_path_probability : 1.59149496973e-09\n",
      "[[  3.20000000e-01   2.32000000e-02   4.75200000e-03   4.57088000e-03\n",
      "    4.83788800e-04   4.30006272e-04   4.53655347e-05   4.03000558e-05\n",
      "    1.70061760e-05   1.70947913e-06   1.88219936e-06   1.47156990e-07\n",
      "    3.07320200e-08   3.70084862e-08   1.44960743e-08   5.42834485e-09\n",
      "    1.62110176e-09   0.00000000e+00]\n",
      " [  8.00000000e-02   6.72000000e-02   1.71520000e-02   4.19072000e-03\n",
      "    1.56948480e-03   3.91303168e-04   1.47061637e-04   3.66708130e-05\n",
      "    1.37821715e-05   5.47742246e-06   6.84500577e-07   4.38052012e-07\n",
      "    1.11155521e-07   1.35741137e-08   4.31809027e-09   1.59149497e-09\n",
      "    1.18683417e-09   0.00000000e+00]]\n",
      "n is ********** 17\n",
      "---------------\n",
      "Trellis state is 0\n",
      "state_observation_likelihood : 0.5\n",
      "transition prob : 0.6\n",
      "prev_forward_path_probability : 1.62110175871e-09\n",
      "transition prob : 0.5\n",
      "prev_forward_path_probability : 1.18683417045e-09\n",
      "---------------\n",
      "Trellis state is 1\n",
      "state_observation_likelihood : 0.2\n",
      "transition prob : 0.4\n",
      "prev_forward_path_probability : 1.62110175871e-09\n",
      "transition prob : 0.5\n",
      "prev_forward_path_probability : 1.18683417045e-09\n",
      "[[  3.20000000e-01   2.32000000e-02   4.75200000e-03   4.57088000e-03\n",
      "    4.83788800e-04   4.30006272e-04   4.53655347e-05   4.03000558e-05\n",
      "    1.70061760e-05   1.70947913e-06   1.88219936e-06   1.47156990e-07\n",
      "    3.07320200e-08   3.70084862e-08   1.44960743e-08   5.42834485e-09\n",
      "    1.62110176e-09   7.83039070e-10]\n",
      " [  8.00000000e-02   6.72000000e-02   1.71520000e-02   4.19072000e-03\n",
      "    1.56948480e-03   3.91303168e-04   1.47061637e-04   3.66708130e-05\n",
      "    1.37821715e-05   5.47742246e-06   6.84500577e-07   4.38052012e-07\n",
      "    1.11155521e-07   1.35741137e-08   4.31809027e-09   1.59149497e-09\n",
      "    1.18683417e-09   2.48371558e-10]]\n"
     ]
    }
   ],
   "source": [
    "\n",
    "def forwardTrellis_text(S):\n",
    "    forward_trellis = np.zeros(shape=(len(Qdic), len(S)), dtype=\"float\")\n",
    "\n",
    "    #Initialize starting probability\n",
    "    for state in range(num_states):\n",
    "        P_start = Pi[state]\n",
    "        initial_observation = Odic[S[0]] # Amount of icecreams to start. In this case 3. Turns it to 2 and gets prob from matrix\n",
    "        state_observation_likelihood = B[initial_observation,state]\n",
    "        forward_trellis[state,0] = P_start * state_observation_likelihood\n",
    "                \n",
    "    #Implement forward algorithm\n",
    "    for n in range(T-1):\n",
    "        n = n + 1 #Skip first column\n",
    "        print(\"n is\", \"*\"*10,n)\n",
    "        for trellis_state in range(len(Qdic)):\n",
    "            print(\"-\"*15)\n",
    "            print(\"Trellis state is\", trellis_state)\n",
    "            cell_sum = 0\n",
    "            obs =  Odic[S[n]]\n",
    "            state_observation_likelihood = B[ obs, trellis_state]\n",
    "            print(\"state_observation_likelihood :\", state_observation_likelihood)\n",
    "            for switching_state in range(len(Qdic)):      #Loop through previous cell and all possible transitions in this state\n",
    "                prev_forward_path_probability = forward_trellis[switching_state,n-1]\n",
    "                transition_probability = A[switching_state,trellis_state]\n",
    "                print(\"transition prob :\", transition_probability)\n",
    "                print(\"prev_forward_path_probability :\", prev_forward_path_probability)\n",
    "                cell_sum = cell_sum + prev_forward_path_probability * state_observation_likelihood * transition_probability\n",
    "            forward_trellis[trellis_state,n] = cell_sum\n",
    "        print(forward_trellis)\n",
    "forwardTrellis_text(S)"
   ]
  },
  {
   "cell_type": "markdown",
   "metadata": {
    "heading_collapsed": true
   },
   "source": [
    "## Viterbi\n"
   ]
  },
  {
   "cell_type": "code",
   "execution_count": 4,
   "metadata": {
    "ExecuteTime": {
     "end_time": "2019-01-15T12:05:03.388486Z",
     "start_time": "2019-01-15T12:05:03.035275Z"
    },
    "hidden": true
   },
   "outputs": [
    {
     "ename": "NameError",
     "evalue": "name 'lenQ' is not defined",
     "output_type": "error",
     "traceback": [
      "\u001b[0;31m---------------------------------------------------------------------------\u001b[0m",
      "\u001b[0;31mNameError\u001b[0m                                 Traceback (most recent call last)",
      "\u001b[0;32m<ipython-input-4-f548398b01ad>\u001b[0m in \u001b[0;36m<module>\u001b[0;34m()\u001b[0m\n\u001b[1;32m     48\u001b[0m     \u001b[0mprint\u001b[0m\u001b[0;34m(\u001b[0m\u001b[0mbest_states\u001b[0m\u001b[0;34m)\u001b[0m\u001b[0;34m\u001b[0m\u001b[0m\n\u001b[1;32m     49\u001b[0m \u001b[0;34m\u001b[0m\u001b[0m\n\u001b[0;32m---> 50\u001b[0;31m \u001b[0mviterbi\u001b[0m\u001b[0;34m(\u001b[0m\u001b[0mS\u001b[0m\u001b[0;34m)\u001b[0m\u001b[0;34m\u001b[0m\u001b[0m\n\u001b[0m",
      "\u001b[0;32m<ipython-input-4-f548398b01ad>\u001b[0m in \u001b[0;36mviterbi\u001b[0;34m(S)\u001b[0m\n\u001b[1;32m      1\u001b[0m \u001b[0;32mdef\u001b[0m \u001b[0mviterbi\u001b[0m\u001b[0;34m(\u001b[0m\u001b[0mS\u001b[0m\u001b[0;34m)\u001b[0m\u001b[0;34m:\u001b[0m\u001b[0;34m\u001b[0m\u001b[0m\n\u001b[0;32m----> 2\u001b[0;31m     \u001b[0mV\u001b[0m \u001b[0;34m=\u001b[0m \u001b[0mnp\u001b[0m\u001b[0;34m.\u001b[0m\u001b[0mzeros\u001b[0m\u001b[0;34m(\u001b[0m\u001b[0mshape\u001b[0m\u001b[0;34m=\u001b[0m\u001b[0;34m(\u001b[0m\u001b[0mlenQ\u001b[0m\u001b[0;34m,\u001b[0m \u001b[0mlen\u001b[0m\u001b[0;34m(\u001b[0m\u001b[0mS\u001b[0m\u001b[0;34m)\u001b[0m\u001b[0;34m)\u001b[0m\u001b[0;34m,\u001b[0m \u001b[0mdtype\u001b[0m\u001b[0;34m=\u001b[0m\u001b[0;34m\"float\"\u001b[0m\u001b[0;34m)\u001b[0m\u001b[0;34m\u001b[0m\u001b[0m\n\u001b[0m\u001b[1;32m      3\u001b[0m     \u001b[0mpointers\u001b[0m \u001b[0;34m=\u001b[0m \u001b[0mnp\u001b[0m\u001b[0;34m.\u001b[0m\u001b[0mzeros\u001b[0m\u001b[0;34m(\u001b[0m\u001b[0mshape\u001b[0m\u001b[0;34m=\u001b[0m\u001b[0;34m(\u001b[0m\u001b[0mlenQ\u001b[0m\u001b[0;34m,\u001b[0m \u001b[0mlen\u001b[0m\u001b[0;34m(\u001b[0m\u001b[0mS\u001b[0m\u001b[0;34m)\u001b[0m\u001b[0;34m)\u001b[0m\u001b[0;34m,\u001b[0m \u001b[0mdtype\u001b[0m\u001b[0;34m=\u001b[0m\u001b[0;34m\"int\"\u001b[0m\u001b[0;34m)\u001b[0m\u001b[0;34m\u001b[0m\u001b[0m\n\u001b[1;32m      4\u001b[0m     \u001b[0;31m#Viterbi\u001b[0m\u001b[0;34m\u001b[0m\u001b[0;34m\u001b[0m\u001b[0m\n\u001b[1;32m      5\u001b[0m     \u001b[0;32mfor\u001b[0m \u001b[0mj\u001b[0m \u001b[0;32min\u001b[0m \u001b[0mrange\u001b[0m\u001b[0;34m(\u001b[0m\u001b[0mlenQ\u001b[0m\u001b[0;34m)\u001b[0m\u001b[0;34m:\u001b[0m\u001b[0;34m\u001b[0m\u001b[0m\n",
      "\u001b[0;31mNameError\u001b[0m: name 'lenQ' is not defined"
     ]
    }
   ],
   "source": [
    "def viterbi(S):\n",
    "    V = np.zeros(shape=(lenQ, len(S)), dtype=\"float\")\n",
    "    pointers = np.zeros(shape=(lenQ, len(S)), dtype=\"int\")\n",
    "    #Viterbi\n",
    "    for j in range(lenQ):\n",
    "        P_start = Pi[j]\n",
    "        initial_observation = Odic[S[0]] # Amount of icecreams to start. In this case 3. Turns it to 2 and gets prob from matrix\n",
    "        state_observation_likelihood = B[j,initial_observation]\n",
    "        V[j,0] = P_start * state_observation_likelihood\n",
    "\n",
    "    for n in range(len(S)-1):\n",
    "        n = n + 1 #Skip first column\n",
    "        print(\"n is\", \"*\"*10,n)\n",
    "        for trellis_state in range(lenQ):\n",
    "            print(\"-\"*15)\n",
    "            print(\"Trellis state is\", trellis_state)\n",
    "            M = np.zeros(shape=(1,lenQ), dtype=\"float\")\n",
    "            state_observation_likelihood = B[trellis_state, Odic[S[n]] ]\n",
    "            print(\"state_observation_likelihood :\", state_observation_likelihood)\n",
    "            for switching_state in range(lenQ):      #Loop through previous cell and all possible transitions in this state\n",
    "                prev_forward_path_probability = V[switching_state,n-1]\n",
    "                rolling_A = np.roll(A,switching_state,axis=0)  #Loop through all transitions\n",
    "                transition_probability = A[switching_state,trellis_state]\n",
    "                print(\"transition prob :\", transition_probability)\n",
    "                print(\"prev_forward_path_probability :\", prev_forward_path_probability)\n",
    "                print(\"state likelihood :\", prev_forward_path_probability * state_observation_likelihood * transition_probability)\n",
    "                M[0,switching_state] = prev_forward_path_probability * state_observation_likelihood * transition_probability\n",
    "\n",
    "            best_state = M.argmax()\n",
    "            pointers[trellis_state,n] = best_state\n",
    "            print(\"best previous state :\", best_state)\n",
    "\n",
    "\n",
    "            V[trellis_state,n] = M[0,best_state]\n",
    "    print(V)\n",
    "    print(pointers)\n",
    "\n",
    "    print(\"Get best sequence\")\n",
    "    best_states = []\n",
    "    best_end_state = V[:,len(S)-1].argmax(axis=0) #Go to last row for traceback\n",
    "    best_end_states = pointers[best_end_state,:]\n",
    "    for n in range(len(best_end_states)):\n",
    "        decoded = Qdicrev[ best_end_states[n] ]\n",
    "        best_states.append(decoded)\n",
    "\n",
    "\n",
    "    best_states.reverse()\n",
    "    print(best_states)\n",
    "\n",
    "viterbi(S)"
   ]
  },
  {
   "cell_type": "markdown",
   "metadata": {},
   "source": [
    "## Reinitialization for excel examples"
   ]
  },
  {
   "cell_type": "code",
   "execution_count": 47,
   "metadata": {
    "ExecuteTime": {
     "end_time": "2019-01-15T13:07:50.966419Z",
     "start_time": "2019-01-15T13:07:50.939453Z"
    },
    "collapsed": true
   },
   "outputs": [],
   "source": [
    "\n",
    "####################################################\n",
    "#This function follows the excel example\n",
    "\n",
    "Pi = np.array([\n",
    "                [0.5],\n",
    "                [0.5],#Starting emissions hot and cold\n",
    "                 ], float)\n",
    "#print(\"starting prob is hot\", Pi[0,0])   # N X 1 Matrix\n",
    "\n",
    "B = np.array([# P(...|C) P(...|H)\n",
    "                [0.6,\t0.1], # P(1|...)    #One two or three icecreams given its hot\n",
    "                [0.35,\t0.2], # P(2|...)\n",
    "                [0.05,\t0.7], # P(3|...)\n",
    "                 ], float)\n",
    "\n",
    "A = np.array([# P(...|C) P(...|H)\n",
    "                [0.7,\t0.09], # P(C|...)\n",
    "                [0.29,\t0.9], # P(H|...)\n",
    "                # [0.1,\t0.1], # P(STOP|...)\n",
    "                 ], float)\n",
    "\n",
    "STOP = np.array([ [0.01,\t0.01],] # P(STOP|...)\n",
    "               )\n",
    "\n",
    "Odic = {\"1\":0,\"2\":1,\"3\":2}    # O is observations, 1 icecream, 2 icecream, 3 icecream\n",
    "Qdic = {\"C\":0,\"H\":1}    # Q is state hot or cold\n",
    "Qdicrev = {0:\"C\",1:\"H\"}    # Q is state hot or cold\n",
    "\n",
    "S=\"322\"\n",
    "S=\"233232322313311121113121112332322\"\n",
    "num_states = len(Qdic)\n",
    "num_obs = len(Odic)\n",
    "\n"
   ]
  },
  {
   "cell_type": "markdown",
   "metadata": {
    "heading_collapsed": true
   },
   "source": [
    "## Forward algorithm for excel examples"
   ]
  },
  {
   "cell_type": "code",
   "execution_count": 29,
   "metadata": {
    "ExecuteTime": {
     "end_time": "2019-01-15T12:16:16.887745Z",
     "start_time": "2019-01-15T12:16:16.826311Z"
    },
    "hidden": true
   },
   "outputs": [
    {
     "data": {
      "text/plain": [
       "array([[  1.75000000e-01,   1.00000000e-01],\n",
       "       [  6.57500000e-03,   9.85250000e-02],\n",
       "       [  6.73487500e-04,   6.34054750e-02],\n",
       "       [  2.16227690e-03,   1.14520478e-02],\n",
       "       [  1.27213906e-04,   7.65373231e-03],\n",
       "       [  2.72259975e-04,   1.38505022e-03],\n",
       "       [  1.57618251e-05,   9.27850415e-04],\n",
       "       [  3.30889352e-05,   1.67927261e-04],\n",
       "       [  1.33964978e-05,   3.21460651e-05],\n",
       "       [  6.13534717e-07,   2.29715101e-05],\n",
       "       [  1.49814613e-06,   2.08522842e-06],\n",
       "       [  6.18186423e-08,   1.61781757e-06],\n",
       "       [  9.44383153e-09,   1.03177425e-06],\n",
       "       [  5.96822188e-08,   9.31335537e-08],\n",
       "       [  3.00957438e-08,   1.01128042e-08],\n",
       "       [  1.31863038e-08,   1.78292895e-09],\n",
       "       [  3.28680670e-09,   1.08573283e-09],\n",
       "       [  1.43908839e-09,   1.93033349e-10],\n",
       "       [  6.14840923e-10,   5.91065646e-11],\n",
       "       [  2.61424942e-10,   2.31499776e-11],\n",
       "       [  9.25404787e-12,   6.76537491e-11],\n",
       "       [  7.54000256e-12,   6.35720481e-12],\n",
       "       [  2.04755258e-12,   1.58161701e-12],\n",
       "       [  9.45379401e-13,   2.01724556e-13],\n",
       "       [  4.07952475e-13,   4.55712127e-14],\n",
       "       [  1.73800885e-13,   1.59320309e-14],\n",
       "       [  4.30830758e-14,   1.29482169e-14],\n",
       "       [  1.56617463e-15,   1.69032410e-14],\n",
       "       [  1.30880697e-16,   1.09669753e-14],\n",
       "       [  3.77525492e-16,   1.98164663e-15],\n",
       "       [  2.21308021e-17,   1.32507505e-15],\n",
       "       [  4.71619107e-17,   2.39797096e-16],\n",
       "       [  1.91082766e-17,   4.58988681e-17]])"
      ]
     },
     "execution_count": 29,
     "metadata": {},
     "output_type": "execute_result"
    }
   ],
   "source": [
    "\n",
    "def forwardTrellis(S,A,B,Pi):\n",
    "    T = len(S)\n",
    "    forward_trellis = np.zeros(shape=(T, num_states), dtype=\"float\")\n",
    "\n",
    "    #Initialize starting probability\n",
    "    for j in range(num_states):\n",
    "        P_start = Pi[j]\n",
    "        initial_observation = Odic[S[0]] # Amount of icecreams to start. In this case 3. Turns it to 2 and gets prob from matrix\n",
    "        state_observation_likelihood = B[initial_observation,j]\n",
    "        forward_trellis[0, j] = P_start * state_observation_likelihood\n",
    "\n",
    "    #Implement forward algorithm\n",
    "    for t in range(T-1):\n",
    "        t = t + 1 #Skip first column\n",
    "#         print(\"n is\", \"*\"*10,n)\n",
    "        for j in range(num_states):\n",
    "        # j is current state\n",
    "#             print(\"-\"*15)\n",
    "#             print(\"Trellis state is\", trellis_state)\n",
    "            cell_sum = 0\n",
    "            observation = Odic[S[t]]                   \n",
    "            state_observation_likelihood = B[observation, j]\n",
    "#             print(\"state_observation_likelihood :\", state_observation_likelihood)\n",
    "            for i in range(num_states):      #Loop through previous cell and all possible transitions in this state\n",
    "                prev_forward_path_probability = forward_trellis[t-1, i]\n",
    "                transition_probability = A[j,i]\n",
    "#                 print(\"transition prob :\", transition_probability)\n",
    "#                 print(\"prev_forward_path_probability :\", prev_forward_path_probability)\n",
    "                cell_sum = cell_sum + prev_forward_path_probability * state_observation_likelihood * transition_probability\n",
    "            forward_trellis[t, j] = cell_sum\n",
    "\n",
    "    return forward_trellis\n",
    "\n",
    "fw = forwardTrellis(S,A,B,Pi)\n",
    "fw"
   ]
  },
  {
   "cell_type": "markdown",
   "metadata": {
    "heading_collapsed": true
   },
   "source": [
    "## Backward algorithm excel example\n"
   ]
  },
  {
   "cell_type": "code",
   "execution_count": 7,
   "metadata": {
    "ExecuteTime": {
     "end_time": "2019-01-15T12:05:06.024855Z",
     "start_time": "2019-01-15T12:05:05.963367Z"
    },
    "code_folding": [],
    "hidden": true,
    "scrolled": true
   },
   "outputs": [
    {
     "data": {
      "text/plain": [
       "array([[  1.38956227e-18,   4.06898051e-18],\n",
       "       [  2.33819161e-18,   6.44199785e-18],\n",
       "       [  7.82225776e-18,   1.01695201e-17],\n",
       "       [  1.93545343e-17,   5.31102906e-17],\n",
       "       [  6.68023378e-17,   8.38248890e-17],\n",
       "       [  1.69436218e-16,   4.36042490e-16],\n",
       "       [  8.62403518e-16,   6.85970911e-16],\n",
       "       [  2.73097060e-15,   3.33302965e-15],\n",
       "       [  7.05554347e-15,   1.72821113e-14],\n",
       "       [  4.43178293e-14,   2.71153667e-14],\n",
       "       [  8.83771871e-14,   2.48255540e-13],\n",
       "       [  2.49887786e-13,   3.92271501e-13],\n",
       "       [  3.68075085e-12,   5.96362098e-13],\n",
       "       [  8.66515085e-12,   1.42715502e-12],\n",
       "       [  2.03807496e-11,   3.62882825e-12],\n",
       "       [  4.77184811e-11,   1.16892252e-11],\n",
       "       [  1.87149044e-10,   3.21890572e-11],\n",
       "       [  4.39088461e-10,   9.42031146e-11],\n",
       "       [  1.01523628e-09,   4.37559508e-10],\n",
       "       [  2.17149746e-09,   3.55887384e-09],\n",
       "       [  3.05439412e-08,   5.43083508e-09],\n",
       "       [  7.15201327e-08,   1.74305324e-08],\n",
       "       [  2.80620088e-07,   4.77277758e-08],\n",
       "       [  6.58820513e-07,   1.35016312e-07],\n",
       "       [  1.52835384e-06,   5.83168939e-07],\n",
       "       [  3.32946808e-06,   4.48197402e-06],\n",
       "       [  8.02757698e-06,   2.34950297e-05],\n",
       "       [  1.36201577e-05,   3.71964111e-05],\n",
       "       [  4.87227266e-05,   5.86939030e-05],\n",
       "       [  1.26933135e-04,   3.03863940e-04],\n",
       "       [  8.65020000e-04,   4.76145000e-04],\n",
       "       [  3.03000000e-03,   2.11500000e-03],\n",
       "       [  1.00000000e-02,   1.00000000e-02]])"
      ]
     },
     "execution_count": 7,
     "metadata": {},
     "output_type": "execute_result"
    }
   ],
   "source": [
    "## TODO Finish this\n",
    "\n",
    "def backwardTrellis(S,A,B,STOP):\n",
    "    T = len(S)\n",
    "    bw = np.zeros(shape=(T, num_states), dtype=\"float\")\n",
    "    \n",
    "    #Initialize ending probability\n",
    "    #bw[:,T-1] = [0.1,0.2] Fill in without loop\n",
    "    for state in range(num_states):\n",
    "        bw[T-1, state] = STOP[0,state]\n",
    "\n",
    "#     print(\"T is \", T)\n",
    "    for t in range(T-2,-1,-1):\n",
    "        future_obs = Odic[S[t+1]] # Use future observation\n",
    "\n",
    "        for i in range(num_states):\n",
    "#             print(\"-\"*15)\n",
    "#             print(\"Trellis state is\", trellis_state)\n",
    "            cell_sum = 0\n",
    "            for j in range(num_states):\n",
    "#                 transition_probability = A[j,i]\n",
    "            \n",
    "                transition_probability = A[j, i]\n",
    "                state_observation_likelihood = B[future_obs,j]\n",
    "                future_back_probability = bw[ t+1, j]\n",
    "#                 print(\"state_observation_likelihood :\", state_observation_likelihood)\n",
    "#                 print(\"transition prob :\", transition_probability)\n",
    "#                 print(\"prev_back_probability :\", future_back_probability)\n",
    "                cell_sum = cell_sum + future_back_probability * state_observation_likelihood * transition_probability\n",
    "                \n",
    "#                 prev_forward_path_probability = forward_trellis[switching_state,n-1]\n",
    "#                 transition_probability = A[switching_state,trellis_state]\n",
    "            bw[t, i] = cell_sum\n",
    "\n",
    "#         print(bw)\n",
    "    return bw\n",
    "backwardTrellis(S,A,B,STOP)    "
   ]
  },
  {
   "cell_type": "markdown",
   "metadata": {},
   "source": [
    "## Forward Backward Baum Welch"
   ]
  },
  {
   "cell_type": "markdown",
   "metadata": {
    "heading_collapsed": true
   },
   "source": [
    "#### Get Z (Total prob of Start-STOP paths)"
   ]
  },
  {
   "cell_type": "code",
   "execution_count": 8,
   "metadata": {
    "ExecuteTime": {
     "end_time": "2019-01-15T12:05:06.752189Z",
     "start_time": "2019-01-15T12:05:06.718139Z"
    },
    "collapsed": true,
    "hidden": true,
    "scrolled": true
   },
   "outputs": [],
   "source": [
    "def get_Z(S, alpha,beta):\n",
    "    T = len(S)\n",
    "    total_prob_per_state = np.zeros(shape=(T, num_states), dtype=\"float\") \n",
    "    for t in range(T):\n",
    "        for j in range(num_states):\n",
    "            total_prob_per_state[t,j] = alpha[t,j] * beta[t,j]\n",
    "    \n",
    "    \n",
    "    Z_vector = np.zeros(shape=(T, 1), dtype=\"float\") \n",
    "    for t in range(T): # A(state1)*Bstate(1) + A(state2)*Bstate(2)\n",
    "        Z = 0\n",
    "        for j in range(num_states):\n",
    "            Z = Z + total_prob_per_state[t,j]        \n",
    "        Z_vector[t,0] = Z\n",
    "        \n",
    "    Z = Z_vector[0,0]\n",
    "    return Z, total_prob_per_state           \n",
    "    \n",
    "alpha = forwardTrellis(S,A,B,Pi)\n",
    "beta = backwardTrellis(S,A,B,STOP) \n",
    "Z, total_prob_per_state = get_Z(S,alpha,beta)\n"
   ]
  },
  {
   "cell_type": "markdown",
   "metadata": {
    "heading_collapsed": true
   },
   "source": [
    "#### Sum prob you reached a state for ALL of ice cream data (...|C) or (...|H)"
   ]
  },
  {
   "cell_type": "code",
   "execution_count": 9,
   "metadata": {
    "ExecuteTime": {
     "end_time": "2019-01-15T12:05:07.384513Z",
     "start_time": "2019-01-15T12:05:07.363916Z"
    },
    "hidden": true
   },
   "outputs": [
    {
     "data": {
      "text/plain": [
       "array([ 13.78823754,  19.21176246])"
      ]
     },
     "execution_count": 9,
     "metadata": {},
     "output_type": "execute_result"
    }
   ],
   "source": [
    "def get_prob_reach_state_for_all(S, Z,total_prob_per_state):\n",
    "    T = len(S)\n",
    "    prob_reach_state = np.zeros(shape=(T, num_states), dtype=\"float\") \n",
    "    \n",
    "    for t in range(T):\n",
    "        for j in range(num_states):\n",
    "            prob_reach_state[t,j] = total_prob_per_state[t,j] / Z\n",
    "    \n",
    "    prob_reach_state_sum = np.sum(prob_reach_state, axis=0)  \n",
    "    return prob_reach_state_sum, prob_reach_state\n",
    "\n",
    "prob_reach_state_sum, prob_reach_state = get_prob_reach_state_for_all(S, Z,total_prob_per_state)\n",
    "prob_reach_state_sum\n"
   ]
  },
  {
   "cell_type": "markdown",
   "metadata": {
    "heading_collapsed": true
   },
   "source": [
    "### Update transition matrix"
   ]
  },
  {
   "cell_type": "markdown",
   "metadata": {
    "hidden": true
   },
   "source": [
    "#### Get Xi "
   ]
  },
  {
   "cell_type": "code",
   "execution_count": 10,
   "metadata": {
    "ExecuteTime": {
     "end_time": "2019-01-15T12:05:08.377253Z",
     "start_time": "2019-01-15T12:05:08.331316Z"
    },
    "code_folding": [],
    "collapsed": true,
    "hidden": true
   },
   "outputs": [],
   "source": [
    "def get_Xi_sum(S, alpha,beta,Z):\n",
    "    T = len(S)\n",
    "    # Update transition matrix\n",
    "    # Even though the text says we use t+1. In excel it is calculated as past alpha\n",
    "    \n",
    "    Xi_sum = np.zeros(shape=(num_states, num_states), dtype=\"float\") \n",
    "    for j in range(num_states):\n",
    "        Xi = np.zeros(shape=(T, num_states), dtype=\"float\") \n",
    "        for t in range(1, T):\n",
    "            curr_obs = Odic[S[t]] # Use future observation\n",
    "            state_observation_likelihood = B[curr_obs,j]\n",
    "            curr_beta = beta[t,j]\n",
    "            \n",
    "#             print(\"state_observation_likelihood :\", state_observation_likelihood)  \n",
    "            for i in range(num_states):\n",
    "                prev_alpha = alpha[t-1,i]  # past alpha based on what state you came from\n",
    "                transition_probability = A[j,i]\n",
    "                not_quite_Xi_per_state = prev_alpha * transition_probability * state_observation_likelihood * curr_beta\n",
    "                Xi[t,i] = not_quite_Xi_per_state / Z\n",
    "        \n",
    "                # Sum down each row of transitions\n",
    "                Etsum = np.sum(Xi, axis=0)  \n",
    "                # Make a new transition matrix. Now you have to divide by total transitions\n",
    "                Xi_sum[j,i] = Etsum[i]    \n",
    "    return Xi_sum  \n",
    "        \n",
    "                \n",
    "Xi_sum = get_Xi_sum(S, alpha,beta, Z)"
   ]
  },
  {
   "cell_type": "markdown",
   "metadata": {
    "hidden": true
   },
   "source": [
    "#### Update transition matrix"
   ]
  },
  {
   "cell_type": "code",
   "execution_count": 11,
   "metadata": {
    "ExecuteTime": {
     "end_time": "2019-01-15T12:05:09.280714Z",
     "start_time": "2019-01-15T12:05:09.243038Z"
    },
    "collapsed": true,
    "hidden": true
   },
   "outputs": [],
   "source": [
    "def update_transition(Xi_sum, prob_reach_state_sum):  \n",
    "       \n",
    "    new_A = np.zeros(shape=(num_states, num_states), dtype=\"float\") \n",
    "    for i in range(num_states):\n",
    "        for j in range(num_states):\n",
    "            new_A[j,i] = Xi_sum[j,i]  / prob_reach_state_sum[i]    \n",
    "    return new_A\n",
    "new_A = update_transition(Xi_sum,prob_reach_state_sum)    \n"
   ]
  },
  {
   "cell_type": "markdown",
   "metadata": {
    "hidden": true
   },
   "source": [
    "#### Update start and stop matrix"
   ]
  },
  {
   "cell_type": "code",
   "execution_count": 12,
   "metadata": {
    "ExecuteTime": {
     "end_time": "2019-01-15T12:05:10.391595Z",
     "start_time": "2019-01-15T12:05:10.370937Z"
    },
    "collapsed": true,
    "hidden": true
   },
   "outputs": [],
   "source": [
    "\n",
    "def update_stop(prob_reach_state_sum, prob_reach_state):  \n",
    "    new_STOP = np.zeros(shape=(1, num_states), dtype=\"float\") \n",
    "    for j in range(num_states):\n",
    "        last_prob = prob_reach_state[-1,j]\n",
    "        new_STOP[0,j] = last_prob / prob_reach_state_sum[j]    \n",
    "    return new_STOP\n",
    "new_STOP = update_stop(prob_reach_state_sum, prob_reach_state)\n",
    "\n",
    "def update_Pi(prob_reach_state):  \n",
    "    \n",
    "    new_Pi = np.zeros(shape=(num_states,1), dtype=\"float\") \n",
    "    for j in range(num_states):\n",
    "        new_Pi[j,0] = prob_reach_state[0,j]\n",
    "    return new_Pi\n",
    "\n",
    "new_Pi = update_Pi(prob_reach_state)"
   ]
  },
  {
   "cell_type": "markdown",
   "metadata": {},
   "source": [
    "### Update emission matrix"
   ]
  },
  {
   "cell_type": "markdown",
   "metadata": {
    "heading_collapsed": true
   },
   "source": [
    "#### Sum  prob of observations    (Probability we reached a state at the end of a day  and ate 1 or 2 of 3 ice creams)"
   ]
  },
  {
   "cell_type": "code",
   "execution_count": 13,
   "metadata": {
    "ExecuteTime": {
     "end_time": "2019-01-15T12:05:11.822908Z",
     "start_time": "2019-01-15T12:05:11.787557Z"
    },
    "collapsed": true,
    "hidden": true
   },
   "outputs": [],
   "source": [
    "def get_emis_sum(S, prob_reach_state):  \n",
    "    T = len(S)\n",
    "    emis_sum = np.zeros(shape=(num_obs,num_states), dtype=\"float\")\n",
    "    for i in range(num_states):\n",
    "        emis_per_state = np.zeros(shape=(T, num_obs), dtype=\"float\") \n",
    "        for t in range(T):\n",
    "            obs = Odic[S[t]] \n",
    "            emis_per_state[t,obs] = prob_reach_state[t,i]     \n",
    "        emis_sum[:,i] = np.sum(emis_per_state, axis=0)      \n",
    "    return emis_sum\n",
    "\n",
    "emis_sum = get_emis_sum(S, prob_reach_state)\n",
    "\n",
    "def update_B(emis_sum,prob_reach_state_sum):\n",
    "    new_B = np.zeros(shape=(num_obs,num_states), dtype=\"float\")\n",
    "    for i in range(num_states):\n",
    "        for obs in range(num_obs):\n",
    "            new_B[obs,i] = emis_sum[obs,i] / prob_reach_state_sum[i]            \n",
    "    return new_B            \n",
    "\n",
    "new_B = update_B(emis_sum,prob_reach_state_sum)"
   ]
  },
  {
   "cell_type": "markdown",
   "metadata": {},
   "source": [
    "### Complete Baum Welch"
   ]
  },
  {
   "cell_type": "code",
   "execution_count": 51,
   "metadata": {
    "ExecuteTime": {
     "end_time": "2019-01-15T13:08:28.701588Z",
     "start_time": "2019-01-15T13:08:28.634892Z"
    }
   },
   "outputs": [
    {
     "data": {
      "text/plain": [
       "array([[ 0.78497725,  0.13485035],\n",
       "       [ 0.19370449,  0.82839827]])"
      ]
     },
     "execution_count": 51,
     "metadata": {},
     "output_type": "execute_result"
    }
   ],
   "source": [
    "def Baum_Welch(S,A,B,Pi,STOP):\n",
    "    T = len(S)\n",
    "    # Get forward and backward probabilities\n",
    "    alpha = forwardTrellis(S=S,A=A,B=B,Pi=Pi)\n",
    "    beta = backwardTrellis(S=S,A=A,B=B,STOP=STOP)\n",
    "    \n",
    "    #Sum up total probabilities. \n",
    "        # Z                    = A(state1)*Bstate(1) + A(state2)*Bstate(2)      Number\n",
    "        # total_prob_per_state = A(state1)*Bstate(1) or A(state2)*Bstate(2)     Vector\n",
    "    Z, total_prob_per_state = get_Z(S ,alpha,beta)\n",
    "    \n",
    "    # Get vector of reaching a state per time point. The sum is just the sum of these\n",
    "    # i.e. for one state and time point. Alpha(state0) * beta(state0) / Z\n",
    "    prob_reach_state_sum, prob_reach_state = get_prob_reach_state_for_all(S, Z,total_prob_per_state)\n",
    "    \n",
    "    \n",
    "    # Update transition matrix\n",
    "        # sum of prev_alpha * transition_probability * state_observation_likelihood * curr_beta / Z\n",
    "    Xi_sum = get_Xi_sum(S, alpha,beta, Z)\n",
    "        # Get Xi sum and divide by the sum of of all probabilities of reaching that state\n",
    "    A = update_transition(Xi_sum,prob_reach_state_sum)\n",
    "    \n",
    "\n",
    "    Pi = update_Pi(prob_reach_state) # Take the first time point from the probability that you reached that state\n",
    "    \n",
    "    # Get last final prob you reached that state, and divide by the sum of all. Do for each state\n",
    "    STOP = update_stop(prob_reach_state_sum, prob_reach_state)      # last_prob / prob_reach_state_sum   \n",
    "    \n",
    "    # Update emission matrix\n",
    "    \n",
    "    #Get sum for each timepoint of prob you reached that state and obs of today. p(obs|state)\n",
    "    # for each state make a [T, num_obs] matrix. If that obs happened fill in prob you reached that state. sum down time points\n",
    "    emis_sum = get_emis_sum(S, prob_reach_state)\n",
    "    \n",
    "    # Divide your emis sum by the total prob you reached that state.\n",
    "    B = update_B(emis_sum,prob_reach_state_sum)\n",
    "    \n",
    "    return A,B,Pi,STOP\n",
    "    \n",
    "new_A,new_B,new_Pi,new_STOP = Baum_Welch(S,A,B,Pi,STOP) "
   ]
  },
  {
   "cell_type": "code",
   "execution_count": 52,
   "metadata": {
    "ExecuteTime": {
     "end_time": "2019-01-15T13:08:36.031374Z",
     "start_time": "2019-01-15T13:08:36.026765Z"
    },
    "collapsed": true
   },
   "outputs": [],
   "source": [
    "\n",
    "    "
   ]
  },
  {
   "cell_type": "code",
   "execution_count": 81,
   "metadata": {
    "ExecuteTime": {
     "end_time": "2019-01-15T13:28:22.978154Z",
     "start_time": "2019-01-15T13:28:22.108477Z"
    }
   },
   "outputs": [
    {
     "name": "stdout",
     "output_type": "stream",
     "text": [
      "******************************************************************************************\n",
      "x is 0\n",
      "new B is\n",
      " [[ 0.67834077  0.08572229]\n",
      " [ 0.27149503  0.37771454]\n",
      " [ 0.0501642   0.53656316]]\n",
      "new A is\n",
      " [[ 0.78497725  0.13485035]\n",
      " [ 0.19370449  0.82839827]]\n",
      "new Pi is\n",
      " [[ 0.3740718]\n",
      " [ 0.6259282]]\n",
      "new STOP is\n",
      " [[ 0.02131826  0.03675138]]\n",
      "A estimated is\n",
      " [[ 0.7   0.09]\n",
      " [ 0.29  0.9 ]]\n",
      "A diff is\n",
      " 0.0\n",
      "B estimated is\n",
      " [[ 0.6   0.1 ]\n",
      " [ 0.35  0.2 ]\n",
      " [ 0.05  0.7 ]]\n",
      "B diff is\n",
      " 0.0\n",
      "******************************************************************************************\n",
      "x is 1\n",
      "new B is\n",
      " [[ 0.67834077  0.08572229]\n",
      " [ 0.27149503  0.37771454]\n",
      " [ 0.0501642   0.53656316]]\n",
      "new A is\n",
      " [[ 0.78497725  0.13485035]\n",
      " [ 0.19370449  0.82839827]]\n",
      "new Pi is\n",
      " [[ 0.3740718]\n",
      " [ 0.6259282]]\n",
      "new STOP is\n",
      " [[ 0.02131826  0.03675138]]\n",
      "A estimated is\n",
      " [[ 0.7   0.09]\n",
      " [ 0.29  0.9 ]]\n",
      "A diff is\n",
      " 0.0\n",
      "B estimated is\n",
      " [[ 0.6   0.1 ]\n",
      " [ 0.35  0.2 ]\n",
      " [ 0.05  0.7 ]]\n",
      "B diff is\n",
      " 0.0\n",
      "******************************************************************************************\n",
      "x is 2\n",
      "new B is\n",
      " [[ 0.67834077  0.08572229]\n",
      " [ 0.27149503  0.37771454]\n",
      " [ 0.0501642   0.53656316]]\n",
      "new A is\n",
      " [[ 0.78497725  0.13485035]\n",
      " [ 0.19370449  0.82839827]]\n",
      "new Pi is\n",
      " [[ 0.3740718]\n",
      " [ 0.6259282]]\n",
      "new STOP is\n",
      " [[ 0.02131826  0.03675138]]\n",
      "A estimated is\n",
      " [[ 0.7   0.09]\n",
      " [ 0.29  0.9 ]]\n",
      "A diff is\n",
      " 0.0\n",
      "B estimated is\n",
      " [[ 0.6   0.1 ]\n",
      " [ 0.35  0.2 ]\n",
      " [ 0.05  0.7 ]]\n",
      "B diff is\n",
      " 0.0\n"
     ]
    },
    {
     "name": "stderr",
     "output_type": "stream",
     "text": [
      "/Users/M/anaconda3/lib/python3.5/site-packages/pandas/core/indexing.py:194: SettingWithCopyWarning: \n",
      "A value is trying to be set on a copy of a slice from a DataFrame\n",
      "\n",
      "See the caveats in the documentation: http://pandas.pydata.org/pandas-docs/stable/indexing.html#indexing-view-versus-copy\n",
      "  self._setitem_with_indexer(indexer, value)\n"
     ]
    },
    {
     "name": "stdout",
     "output_type": "stream",
     "text": [
      "******************************************************************************************\n",
      "x is 3\n",
      "new B is\n",
      " [[ 0.67834077  0.08572229]\n",
      " [ 0.27149503  0.37771454]\n",
      " [ 0.0501642   0.53656316]]\n",
      "new A is\n",
      " [[ 0.78497725  0.13485035]\n",
      " [ 0.19370449  0.82839827]]\n",
      "new Pi is\n",
      " [[ 0.3740718]\n",
      " [ 0.6259282]]\n",
      "new STOP is\n",
      " [[ 0.02131826  0.03675138]]\n",
      "A estimated is\n",
      " [[ 0.7   0.09]\n",
      " [ 0.29  0.9 ]]\n",
      "A diff is\n",
      " 0.0\n",
      "B estimated is\n",
      " [[ 0.6   0.1 ]\n",
      " [ 0.35  0.2 ]\n",
      " [ 0.05  0.7 ]]\n",
      "B diff is\n",
      " 0.0\n",
      "   Difference  Iterations Matrix_type\n",
      "0         0.0           0  Transition\n",
      "1         0.0           1  Transition\n",
      "2         0.0           2  Transition\n",
      "3         0.0           3  Transition\n"
     ]
    },
    {
     "name": "stderr",
     "output_type": "stream",
     "text": [
      "/Users/M/anaconda3/lib/python3.5/site-packages/seaborn/categorical.py:1460: FutureWarning: remove_na is deprecated and is a private function. Do not use.\n",
      "  stat_data = remove_na(group_data)\n"
     ]
    }
   ],
   "source": [
    "\n",
    "#### Difference says 0. Start again here\n",
    "\n",
    "# Test Baum Welch\n",
    "A_TRUTH = A\n",
    "B_TRUTH = B\n",
    "Pi_TRUTH = Pi\n",
    "STOP_TRUTH = STOP\n",
    "\n",
    "\n",
    "Pi_init = np.array([\n",
    "                [0.1],\n",
    "                [0.1],#Starting emissions hot and cold\n",
    "                 ], float)\n",
    "\n",
    "\n",
    "\n",
    "STOP_init = np.array([ [0.1,\t0.1],] # P(STOP|...)\n",
    "               )\n",
    "\n",
    "B_init = np.array([# P(...|C) P(...|H)\n",
    "                [0.4,\t0.7], # P(1|...)    #One two or three icecreams given its hot\n",
    "                [0.65,\t0.2], # P(2|...)\n",
    "                [0.05,\t0.1], # P(3|...)\n",
    "                 ], float)\n",
    "\n",
    "A_init = np.array([# P(...|C) P(...|H)\n",
    "                [0.3,\t0.7], # P(C|...)\n",
    "                [0.6,\t0.1], # P(H|...)\n",
    "                # [0.1,\t0.1], # P(STOP|...)\n",
    "                 ], float)\n",
    "\n",
    "\n",
    "\n",
    "\n",
    "\n",
    "def Run_Baum_Difference(S,A_TRUTH, B_TRUTH, A_init,B_init,Pi_init,STOP_init):\n",
    "    A_init,B_init,Pi_init,STOP_init = Baum_Welch(S,A_init,B_init,Pi_init,STOP_init) \n",
    "    print(\"new B is\\n\",new_B)\n",
    "    print(\"new A is\\n\",new_A)\n",
    "    print(\"new Pi is\\n\",new_Pi)\n",
    "    print(\"new STOP is\\n\",new_STOP) \n",
    "    A_diff =  np.sum( np.absolute(A_TRUTH - A) )\n",
    "    B_diff =  np.sum( np.absolute(B_TRUTH - B) ) #.__sub__(B) #B_TRUTH - B\n",
    "    print(\"A estimated is\\n\", A)\n",
    "    print(\"A diff is\\n\", A_diff)\n",
    "    print(\"B estimated is\\n\", B)\n",
    "    print(\"B diff is\\n\", B_diff)\n",
    "    return A_diff, B_diff\n",
    "\n",
    "\n",
    "\n",
    "def Graph_Baum_Iterations(S,A_TRUTH, B_TRUTH, A_init,B_init,Pi_init,STOP_init, iterations):\n",
    "    feature_list = [\"Difference\", \"Iterations\",\"Matrix_type\"]\n",
    "    df = pd.DataFrame(0, index=np.arange(iterations), columns=feature_list)\n",
    "    \n",
    "\n",
    "    for x in range(0,iterations):\n",
    "        print(\"*********\"*10)\n",
    "        print(\"x is\", x)\n",
    "        A_diff, B_diff = Run_Baum_Difference(S,A_TRUTH, B_TRUTH, A_init,B_init,Pi_init,STOP_init)\n",
    "        df[\"Iterations\"].iloc[x] = x\n",
    "        df[\"Difference\"].iloc[x] = A_diff\n",
    "        df[\"Matrix_type\"].iloc[x] =\"Transition\"\n",
    "    \n",
    "    \n",
    "#     ax = sns.pointplot(x=\"Iterations\", y=\"Difference\", hue=\"Matrix_type\",data=df)\n",
    "    ax = sns.pointplot(x=\"Iterations\", y=\"Difference\",data=df)\n",
    "    for item in ax.get_xticklabels():\n",
    "        item.set_rotation(90)\n",
    "\n",
    "    fig = ax.get_figure()\n",
    "    \n",
    "    print(df)\n",
    "    \n",
    "    fig.savefig('GRAPHS/BAUM_ITERATIONS:'+ str(iterations) +\".png\")\n",
    "        \n",
    "        \n",
    "Graph_Baum_Iterations(S,A_TRUTH, B_TRUTH, A_init,B_init,Pi_init,STOP_init, iterations=4)\n",
    "\n",
    "#     df[\"Iterations\"].iloc[x] = len(S)\n",
    "# #     df[\"length\"].iloc[x+runs] = HMM.length\n",
    "#     df[\"Difference\"].iloc[x] = A_diff\n",
    "# #     df[\"Difference\"].iloc[x+runs] = B_diff\n",
    "#     df[\"Matrix_type\"].iloc[x] =\"Transition\"\n",
    "#     df[\"Matrix_type\"].iloc[x+runs] = \"Observation\"\n",
    "\n",
    "# print(df)\n",
    "\n",
    "# df = df.sort_values(by=\"length\")\n",
    "# ax = sns.pointplot(x=\"iterations\", y=\"Difference\", hue=\"Matrix_type\",\n",
    "#                     data=df)\n",
    "# for item in ax.get_xticklabels():\n",
    "#     item.set_rotation(90)\n",
    "\n",
    "# fig = ax.get_figure()\n",
    "# fig.savefig('GRAPHS/Matrix_differences, iterations:'+ str(iterations) +\" runs:\"+ str(runs) + \".png\")\n"
   ]
  },
  {
   "cell_type": "markdown",
   "metadata": {},
   "source": [
    "## Benchmarking"
   ]
  },
  {
   "cell_type": "markdown",
   "metadata": {
    "heading_collapsed": true
   },
   "source": [
    "#### Create sequence generator"
   ]
  },
  {
   "cell_type": "code",
   "execution_count": 43,
   "metadata": {
    "ExecuteTime": {
     "end_time": "2019-01-15T13:01:57.367860Z",
     "start_time": "2019-01-15T13:01:57.154800Z"
    },
    "code_folding": [],
    "hidden": true
   },
   "outputs": [
    {
     "name": "stdout",
     "output_type": "stream",
     "text": [
      "transition list  is,  0\n",
      "observation list is,  1\n",
      "Length of generated sequence is 1\n"
     ]
    }
   ],
   "source": [
    "\n",
    "from numpy.random import choice\n",
    "class HMMGEN(object):\n",
    "    # The class \"constructor\" - It's actually an initializer\n",
    "    def __init__(self, A, B, Pi, STOP):\n",
    "        self.hiddenstate = 0\n",
    "        self.emission = 0\n",
    "        self.S = []\n",
    "        self.O = []\n",
    "        self.GENERATE = True\n",
    "        self.x = 0\n",
    "        self.R = 0.0\n",
    "        self.A = A\n",
    "        self.B = B\n",
    "        self.Pi = Pi\n",
    "        self.STOP = STOP\n",
    "        self.num_obs = B.shape[0]\n",
    "        self.num_obs_list = [state for state in range(self.num_obs)]\n",
    "        self.num_states = B.shape[1]\n",
    "        self.num_states_list = [state for state in range(self.num_states)]\n",
    "        ASUM = np.sum(self.A, axis=0)\n",
    "        ONES = np.ones(shape=(1, num_states), dtype=\"float\")\n",
    "        STOP = ONES - ASUM\n",
    "        self.ASTOP = np.concatenate([A, STOP], axis=0) # Concat Transition and STOP matrix\n",
    "        \n",
    "    def StartProb(self):       \n",
    "        probabilities = Pi[:,0]     # Transform Pi matrix to a list\n",
    "        self.hiddenstate = choice(self.num_states_list, p=probabilities)\n",
    "        self.S.append(str(self.hiddenstate))\n",
    "\n",
    "    def makeEmission(self):\n",
    "        probabilities = B[:,self.hiddenstate]   # Get observations for that hidden state\n",
    "        current_emmision = choice(self.num_obs_list, p=probabilities)\n",
    "        self.O.append(str(current_emmision+1))         #Add one to the because icecream starts at one\n",
    "\n",
    "    def makeTransition(self):\n",
    "        self.num_states_list_with_stop = [state for state in range(self.num_states+1)]\n",
    "        \n",
    "        # Do 1 - transition probabilities to get stopping probabilities\n",
    "        probabilities = self.ASTOP[:,self.hiddenstate]   # Get observations for that hidden state\n",
    "        \n",
    "        self.hiddenstate = choice(self.num_states_list_with_stop, p=probabilities)\n",
    "        self.S.append(str(self.hiddenstate))\n",
    "\n",
    "        if self.hiddenstate == num_states: # Stop state\n",
    "            self.GENERATE = False\n",
    "            \n",
    "    def Generate(self):\n",
    "        while self.GENERATE == True:\n",
    "            self.makeEmission()\n",
    "            self.makeTransition()\n",
    "def makeHMMSeq(A, B, Pi, STOP):\n",
    "    HMM = HMMGEN(A, B, Pi, STOP)\n",
    "    HMM.StartProb()\n",
    "    HMM.Generate()\n",
    "    HMM.length = len(HMM.O)\n",
    "    HMM.S = \"\".join(HMM.S)[:-1] # Take off stop state\n",
    "    HMM.O = \"\".join(HMM.O)\n",
    "    print(\"transition list  is, \",HMM.S)\n",
    "    print(\"observation list is, \",HMM.O)\n",
    "    print(\"Length of generated sequence is\", HMM.length)\n",
    "    return HMM\n",
    "\n",
    "HMM = makeHMMSeq(A, B, Pi, STOP)\n",
    "A_new,B_new,Pi_new,STOP_new = Baum_Welch(S=HMM.O,A=A,B=B,Pi=Pi,STOP=STOP)"
   ]
  },
  {
   "cell_type": "markdown",
   "metadata": {
    "ExecuteTime": {
     "end_time": "2019-01-15T09:35:51.909485Z",
     "start_time": "2019-01-15T09:35:51.905108Z"
    }
   },
   "source": [
    "### Error Function\n"
   ]
  },
  {
   "cell_type": "markdown",
   "metadata": {
    "ExecuteTime": {
     "end_time": "2019-01-15T10:16:20.407767Z",
     "start_time": "2019-01-15T10:16:20.405568Z"
    }
   },
   "source": [
    "##### Initialization"
   ]
  },
  {
   "cell_type": "code",
   "execution_count": 40,
   "metadata": {
    "ExecuteTime": {
     "end_time": "2019-01-15T12:59:21.572482Z",
     "start_time": "2019-01-15T12:59:21.541880Z"
    }
   },
   "outputs": [
    {
     "name": "stdout",
     "output_type": "stream",
     "text": [
      "A start is \n",
      " [[ 0.3  0.7]\n",
      " [ 0.6  0.1]]\n",
      "A TRUTH is\n",
      " [[ 0.7   0.09]\n",
      " [ 0.29  0.9 ]]\n",
      "B TRUTH is\n",
      " [[ 0.6   0.1 ]\n",
      " [ 0.35  0.2 ]\n",
      " [ 0.05  0.7 ]]\n",
      "B start is \n",
      " [[ 0.4   0.7 ]\n",
      " [ 0.65  0.2 ]\n",
      " [ 0.05  0.1 ]]\n"
     ]
    }
   ],
   "source": [
    "A_TRUTH = A\n",
    "B_TRUTH = B\n",
    "Pi_TRUTH = Pi\n",
    "STOP_TRUTH = STOP\n",
    "\n",
    "Pi_init = np.array([\n",
    "                [0.1],\n",
    "                [0.1],#Starting emissions hot and cold\n",
    "                 ], float)\n",
    "\n",
    "\n",
    "\n",
    "STOP_init = np.array([ [0.1,\t0.1],] # P(STOP|...)\n",
    "               )\n",
    "\n",
    "B_init = np.array([# P(...|C) P(...|H)\n",
    "                [0.4,\t0.7], # P(1|...)    #One two or three icecreams given its hot\n",
    "                [0.65,\t0.2], # P(2|...)\n",
    "                [0.05,\t0.1], # P(3|...)\n",
    "                 ], float)\n",
    "\n",
    "A_init = np.array([# P(...|C) P(...|H)\n",
    "                [0.3,\t0.7], # P(C|...)\n",
    "                [0.6,\t0.1], # P(H|...)\n",
    "                # [0.1,\t0.1], # P(STOP|...)\n",
    "                 ], float)\n",
    "\n",
    "print(\"A start is \\n\", A_init)\n",
    "print(\"A TRUTH is\\n\", A_TRUTH)\n",
    "print(\"B TRUTH is\\n\", B_TRUTH)\n",
    "print(\"B start is \\n\", B_init)"
   ]
  },
  {
   "cell_type": "code",
   "execution_count": null,
   "metadata": {
    "collapsed": true
   },
   "outputs": [],
   "source": []
  },
  {
   "cell_type": "markdown",
   "metadata": {},
   "source": [
    "##### Run the random sequence"
   ]
  },
  {
   "cell_type": "code",
   "execution_count": 41,
   "metadata": {
    "ExecuteTime": {
     "end_time": "2019-01-15T12:59:24.603484Z",
     "start_time": "2019-01-15T12:59:24.525159Z"
    }
   },
   "outputs": [
    {
     "name": "stdout",
     "output_type": "stream",
     "text": [
      "transition list  is,  010011000011111111111111111111111111110011111011111100111111110000001111111011111001111111100111111111111111111101111111111110000111111111111000011111\n",
      "observation list is,  331232211133333333123321323131333123232233323111113211213333331111213312332133233113311333312333313333331332323312331333323331211233232322332121133333\n",
      "Length of generated sequence is 150\n"
     ]
    }
   ],
   "source": [
    "\n",
    "\n",
    "\n",
    "\n",
    "\n",
    "####################################\n",
    "#Run it and graph the difference\n",
    "def runRandomSequence(S, A,B, Pi, STOP, iterations):\n",
    "        # Give starting parameters for B and A\n",
    "        x = 0\n",
    "        while x < iterations:\n",
    "            A,B,Pi,STOP = Baum_Welch(S=S,A=A,B=B,Pi=Pi,STOP=STOP)\n",
    "            x= x + 1\n",
    "        return A,B,Pi,STOP\n",
    "def getDifference(A,B,A_TRUTH,B_TRUTH):\n",
    "        B_diff =  np.sum( np.absolute(B_TRUTH - B) ) #.__sub__(B) #B_TRUTH - B\n",
    "        A_diff =  np.sum( np.absolute(A_TRUTH - A) )\n",
    "        return A_diff, B_diff\n",
    "HMM = makeHMMSeq(A, B, Pi, STOP)  \n",
    "iterations=5\n",
    "A_new,B_new,Pi_new,STOP_new = runRandomSequence(S=HMM.O, A=A_init, B=B_init, Pi=Pi_init, STOP=STOP_init, iterations=iterations)"
   ]
  },
  {
   "cell_type": "code",
   "execution_count": 42,
   "metadata": {
    "ExecuteTime": {
     "end_time": "2019-01-15T12:59:28.828505Z",
     "start_time": "2019-01-15T12:59:27.262564Z"
    }
   },
   "outputs": [
    {
     "name": "stdout",
     "output_type": "stream",
     "text": [
      "transition list  is,  0000000001111000000000000111111111111111111111111111111101111111111111\n",
      "observation list is,  2212122223333222211112111231223211323333333112233233231323333331332323\n",
      "Length of generated sequence is 70\n",
      "A estimated is\n",
      " [[ 0.15116543  0.00601778]\n",
      " [ 0.1344625   0.17725587]]\n",
      "A diff is\n",
      " 1.51109841507\n",
      "B estimated is\n",
      " [[ 0.47761193  0.08395966]\n",
      " [ 0.51282212  0.24416261]\n",
      " [ 0.00956595  0.67187773]]\n",
      "B diff is\n",
      " 0.413969460414\n",
      "transition list  is,  011111111111111111001111111111111111111100000000000000011111111111111111111111000000111111\n",
      "observation list is,  132223221332333333223231333133211133333222111212122122223333313222312332332331211222333331\n",
      "Length of generated sequence is 90\n",
      "A estimated is\n",
      " [[ 0.16693896  0.00316278]\n",
      " [ 0.25190867  0.17835303]]\n",
      "A diff is\n",
      " 1.37963656619\n",
      "B estimated is\n",
      " [[ 0.42077596  0.11207604]\n",
      " [ 0.55733444  0.24388598]\n",
      " [ 0.02188961  0.64403798]]\n",
      "B diff is\n",
      " 0.526592916439\n",
      "transition list  is,  00111\n",
      "observation list is,  11113\n",
      "Length of generated sequence is 5\n"
     ]
    },
    {
     "name": "stderr",
     "output_type": "stream",
     "text": [
      "/Users/M/anaconda3/lib/python3.5/site-packages/pandas/core/indexing.py:194: SettingWithCopyWarning: \n",
      "A value is trying to be set on a copy of a slice from a DataFrame\n",
      "\n",
      "See the caveats in the documentation: http://pandas.pydata.org/pandas-docs/stable/indexing.html#indexing-view-versus-copy\n",
      "  self._setitem_with_indexer(indexer, value)\n"
     ]
    },
    {
     "name": "stdout",
     "output_type": "stream",
     "text": [
      "A estimated is\n",
      " [[ 0.1916366   0.00823685]\n",
      " [ 0.05786716  0.21913475]]\n",
      "A diff is\n",
      " 1.50312463815\n",
      "B estimated is\n",
      " [[ 1.          0.43433603]\n",
      " [ 0.          0.        ]\n",
      " [ 0.          0.56566397]]\n",
      "B diff is\n",
      " 1.46867205838\n",
      "transition list  is,  01110000000000111100111111111111111111\n",
      "observation list is,  11311111111111131111333313133131333333\n",
      "Length of generated sequence is 38\n",
      "A estimated is\n",
      " [[  2.60539600e-01   3.78524232e-04]\n",
      " [  4.47738324e-01   2.56054531e-01]]\n",
      "A diff is\n",
      " 1.33076566856\n",
      "B estimated is\n",
      " [[ 0.89757566  0.25156838]\n",
      " [ 0.          0.        ]\n",
      " [ 0.10242434  0.74843162]]\n",
      "B diff is\n",
      " 1.1\n",
      "transition list  is,  01111100000000000011110000000111111111111111111111110011111111110011111111100001110011111100111111111101111111111111111111111111110000\n",
      "observation list is,  13133311113111111131331131111313313313311333331313331133333331331133311313311111331113333113333333333113333331113333331133133311331111\n",
      "Length of generated sequence is 134\n",
      "A estimated is\n",
      " [[  8.16425519e-02   3.43809249e+01]\n",
      " [  7.95960938e-07   1.22050217e-01]]\n",
      "A diff is\n",
      " 35.977231345\n",
      "B estimated is\n",
      " [[ 0.45094709  0.36371703]\n",
      " [ 0.          0.        ]\n",
      " [ 0.54905291  0.63628297]]\n",
      "B diff is\n",
      " 1.52553988387\n"
     ]
    },
    {
     "name": "stderr",
     "output_type": "stream",
     "text": [
      "/Users/M/anaconda3/lib/python3.5/site-packages/seaborn/categorical.py:1508: FutureWarning: remove_na is deprecated and is a private function. Do not use.\n",
      "  stat_data = remove_na(group_data[hue_mask])\n"
     ]
    }
   ],
   "source": [
    "\n",
    "x= 0\n",
    "feature_list = [\"length\", \"Difference\",\"Matrix_type\"]\n",
    "runs = 5\n",
    "iterations = 20\n",
    "df = pd.DataFrame(0, index=np.arange(runs*2), columns=feature_list)\n",
    "\n",
    "for x in range(0,runs):\n",
    "    HMM = makeHMMSeq(A_TRUTH, B_TRUTH, Pi_TRUTH, STOP_TRUTH)\n",
    "    A,B,Pi,STOP = runRandomSequence(S=HMM.O, A=A_init, B=B_init, Pi=Pi_init, STOP=STOP_init, iterations=iterations)\n",
    "    A_diff, B_diff = getDifference(A,B,A_TRUTH,B_TRUTH)\n",
    "    df[\"length\"].iloc[x] = HMM.length\n",
    "    df[\"length\"].iloc[x+runs] = HMM.length\n",
    "    df[\"Difference\"].iloc[x] = A_diff\n",
    "    df[\"Difference\"].iloc[x+runs] = B_diff\n",
    "    df[\"Matrix_type\"].iloc[x] =\"Transition\"\n",
    "    df[\"Matrix_type\"].iloc[x+runs] = \"Observation\"\n",
    "    print(\"A estimated is\\n\", A)\n",
    "    print(\"A diff is\\n\", A_diff)\n",
    "    print(\"B estimated is\\n\", B)\n",
    "    print(\"B diff is\\n\", B_diff)\n",
    "\n",
    "\n",
    "df = df.sort_values(by=\"length\")\n",
    "ax = sns.pointplot(x=\"length\", y=\"Difference\", hue=\"Matrix_type\",\n",
    "                    data=df)\n",
    "for item in ax.get_xticklabels():\n",
    "    item.set_rotation(90)\n",
    "\n",
    "fig = ax.get_figure()\n",
    "fig.savefig('GRAPHS/Matrix_differences, iterations:'+ str(iterations) +\" runs:\"+ str(runs) + \".png\")\n",
    "\n"
   ]
  },
  {
   "cell_type": "code",
   "execution_count": null,
   "metadata": {
    "ExecuteTime": {
     "end_time": "2019-01-15T09:09:38.304311Z",
     "start_time": "2019-01-15T09:09:38.299998Z"
    },
    "collapsed": true
   },
   "outputs": [],
   "source": []
  },
  {
   "cell_type": "code",
   "execution_count": null,
   "metadata": {
    "ExecuteTime": {
     "end_time": "2019-01-15T09:21:55.313493Z",
     "start_time": "2019-01-15T09:21:55.309003Z"
    },
    "collapsed": true
   },
   "outputs": [],
   "source": []
  },
  {
   "cell_type": "code",
   "execution_count": null,
   "metadata": {
    "ExecuteTime": {
     "end_time": "2019-01-15T09:24:59.362211Z",
     "start_time": "2019-01-15T09:24:59.281036Z"
    },
    "collapsed": true
   },
   "outputs": [],
   "source": []
  },
  {
   "cell_type": "code",
   "execution_count": null,
   "metadata": {
    "collapsed": true
   },
   "outputs": [],
   "source": []
  }
 ],
 "metadata": {
  "kernelspec": {
   "display_name": "Python 3",
   "language": "python",
   "name": "python3"
  },
  "language_info": {
   "codemirror_mode": {
    "name": "ipython",
    "version": 3
   },
   "file_extension": ".py",
   "mimetype": "text/x-python",
   "name": "python",
   "nbconvert_exporter": "python",
   "pygments_lexer": "ipython3",
   "version": "3.5.4"
  }
 },
 "nbformat": 4,
 "nbformat_minor": 2
}
